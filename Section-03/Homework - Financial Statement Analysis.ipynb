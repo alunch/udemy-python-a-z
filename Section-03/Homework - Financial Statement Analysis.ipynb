{
 "cells": [
  {
   "cell_type": "code",
   "execution_count": null,
   "metadata": {
    "collapsed": true
   },
   "outputs": [],
   "source": [
    "import numpy as np"
   ]
  },
  {
   "cell_type": "code",
   "execution_count": null,
   "metadata": {
    "collapsed": true
   },
   "outputs": [],
   "source": [
    "#Data \n",
    "revenue = [14574.49, 7606.46, 8611.41, 9175.41, 8058.65, 8105.44, 11496.28, 9766.09, 10305.32, 14379.96, 10713.97, 15433.50]\n",
    "expenses = [12051.82, 5695.07, 12319.20, 12089.72, 8658.57, 840.20, 3285.73, 5821.12, 6976.93, 16618.61, 10054.37, 3803.96]"
   ]
  },
  {
   "cell_type": "code",
   "execution_count": null,
   "metadata": {
    "collapsed": true
   },
   "outputs": [],
   "source": [
    "# Convert lists to NumPy arrays\n",
    "revenue = np.array(revenue)\n",
    "expenses = np.array(expenses)"
   ]
  },
  {
   "cell_type": "code",
   "execution_count": null,
   "metadata": {
    "collapsed": true
   },
   "outputs": [],
   "source": [
    "# Utility functions\n",
    "\n",
    "def format_dollars(values):\n",
    "    return np.round((values / 1000),2)\n",
    "\n",
    "def format_percentages(values):\n",
    "    new_values = np.round(values * 100)\n",
    "    return [int(x) for x in new_values]"
   ]
  },
  {
   "cell_type": "code",
   "execution_count": null,
   "metadata": {},
   "outputs": [],
   "source": [
    "# Calculate profit for each month\n",
    "profit_by_month = revenue - expenses\n",
    "\n",
    "# Display profit for each month\n",
    "print(format_dollars(profit_by_month))"
   ]
  },
  {
   "cell_type": "code",
   "execution_count": null,
   "metadata": {},
   "outputs": [],
   "source": [
    "# Calculate profit after tax for each month\n",
    "tax_rate = 0.30\n",
    "profit_after_tax_by_month = (revenue * (1 - tax_rate)) - expenses\n",
    "\n",
    "# Display profit after taxes for each month\n",
    "print(format_dollars(profit_after_tax_by_month))"
   ]
  },
  {
   "cell_type": "code",
   "execution_count": null,
   "metadata": {},
   "outputs": [],
   "source": [
    "# Calculate profit margin for each month\n",
    "profit_margin_by_month = profit_after_tax_by_month / revenue\n",
    "\n",
    "# Display profit margin for each month\n",
    "print(format_percentages(profit_margin_by_month))"
   ]
  },
  {
   "cell_type": "code",
   "execution_count": null,
   "metadata": {},
   "outputs": [],
   "source": [
    "# Calculate mean profit after tax\n",
    "mean_profit_after_tax = np.mean(profit_after_tax_by_month)\n",
    "\n",
    "# Calculate good and bad months (either greater than or less than the mean profit after tax for the year)\n",
    "good_months = np.array([x for x in profit_after_tax_by_month if x > mean_profit_after_tax])\n",
    "bad_months = np.array([x for x in profit_after_tax_by_month if x < mean_profit_after_tax])\n",
    "\n",
    "# Display good and bad months\n",
    "print(format_dollars(good_months))\n",
    "print(format_dollars(bad_months))"
   ]
  },
  {
   "cell_type": "code",
   "execution_count": null,
   "metadata": {},
   "outputs": [],
   "source": [
    "# Display the best month\n",
    "print(format_dollars(np.max(good_months)))\n",
    "\n",
    "# Display the worst month\n",
    "print(format_dollars(np.min(bad_months)))"
   ]
  }
 ],
 "metadata": {
  "anaconda-cloud": {},
  "kernelspec": {
   "display_name": "Python [conda env:py35-jupyter5]",
   "language": "python",
   "name": "conda-env-py35-jupyter5-py"
  },
  "language_info": {
   "codemirror_mode": {
    "name": "ipython",
    "version": 3
   },
   "file_extension": ".py",
   "mimetype": "text/x-python",
   "name": "python",
   "nbconvert_exporter": "python",
   "pygments_lexer": "ipython3",
   "version": "3.5.3"
  }
 },
 "nbformat": 4,
 "nbformat_minor": 1
}
