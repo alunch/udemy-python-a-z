{
 "cells": [
  {
   "cell_type": "markdown",
   "metadata": {},
   "source": [
    "Test the Law Of Large Numbers for N random normally distributed numbers with a mean of 0 and standard deviation of 1\n",
    "\n",
    "Create a Python script that will count how many of these numbers fall between -1 and 1 and divide by the total quantity of N\n",
    "\n",
    "You know that the expected value of X or E(X) equals 68.2%.  In other words, we expect that 68.2% of the samples will fall within 1 standard deviation of 0.\n",
    "\n",
    "Check that Mean(Xn) approaches E(X) as you rerun your script while increasing N.\n",
    "\n"
   ]
  },
  {
   "cell_type": "code",
   "execution_count": null,
   "metadata": {},
   "outputs": [],
   "source": [
    "import numpy as np\n",
    "from numpy.random import randn"
   ]
  },
  {
   "cell_type": "code",
   "execution_count": null,
   "metadata": {},
   "outputs": [],
   "source": [
    "# Number of samples to take\n",
    "iter_range = [10**1, 10**2, 10**3, 10**4, 10**5, 10**6, 10**7]\n",
    "\n",
    "# Loop through the iteration ranges\n",
    "for i in iter_range:\n",
    "\n",
    "    # Initialize a counter variable\n",
    "    counter = 0\n",
    "\n",
    "    # Iterate through n samples from the random distribution\n",
    "    for j in randn(i):\n",
    "        # Check if the sample falls between -1 and 1\n",
    "        if j > -1 and j < 1:\n",
    "            # If the sample falls between -1 and 1 increment the counter\n",
    "            counter = counter + 1\n",
    "\n",
    "    # Calculate the percentage of the samples between -1 and 1\n",
    "    one_std_dev = counter / i\n",
    "    \n",
    "    # Output the current sample count and percentage of samples that fall between -1 and 1\n",
    "    print(str(i) + \": \" + str(one_std_dev))"
   ]
  }
 ],
 "metadata": {
  "anaconda-cloud": {},
  "kernelspec": {
   "display_name": "Python [conda env:py35-jupyter5]",
   "language": "python",
   "name": "conda-env-py35-jupyter5-py"
  },
  "language_info": {
   "codemirror_mode": {
    "name": "ipython",
    "version": 3
   },
   "file_extension": ".py",
   "mimetype": "text/x-python",
   "name": "python",
   "nbconvert_exporter": "python",
   "pygments_lexer": "ipython3",
   "version": "3.5.3"
  }
 },
 "nbformat": 4,
 "nbformat_minor": 2
}
